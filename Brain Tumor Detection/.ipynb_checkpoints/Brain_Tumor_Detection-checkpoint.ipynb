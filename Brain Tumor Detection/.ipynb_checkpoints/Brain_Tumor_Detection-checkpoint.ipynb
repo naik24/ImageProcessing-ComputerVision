{
 "cells": [
  {
   "cell_type": "markdown",
   "id": "571bc203",
   "metadata": {
    "id": "571bc203"
   },
   "source": [
    "# Brain Tumor Detection\n",
    "\n",
    "## Dataset\n",
    "\n",
    "The dataset consists of 2 folders - 'Training' and 'Testing'. Each folder consists for 4 folders corresponding to 4 classes of tumors. These classes are:\n",
    "- glioma tumor\n",
    "- meningioma tumor\n",
    "- no tumor\n",
    "- pituitary tumor\n",
    "\n",
    "## Objective\n",
    "\n",
    "Our objective is to detect the type of tumor in a given MRI scan"
   ]
  },
  {
   "cell_type": "markdown",
   "id": "f685927b",
   "metadata": {
    "id": "f685927b"
   },
   "source": [
    "## Importing Libaries"
   ]
  },
  {
   "cell_type": "code",
   "execution_count": 1,
   "id": "941d4579",
   "metadata": {
    "id": "941d4579"
   },
   "outputs": [
    {
     "ename": "ModuleNotFoundError",
     "evalue": "No module named 'tensorflow'",
     "output_type": "error",
     "traceback": [
      "\u001b[0;31m---------------------------------------------------------------------------\u001b[0m",
      "\u001b[0;31mModuleNotFoundError\u001b[0m                       Traceback (most recent call last)",
      "Cell \u001b[0;32mIn[1], line 6\u001b[0m\n\u001b[1;32m      3\u001b[0m \u001b[38;5;28;01mimport\u001b[39;00m \u001b[38;5;21;01mnumpy\u001b[39;00m \u001b[38;5;28;01mas\u001b[39;00m \u001b[38;5;21;01mnp\u001b[39;00m\n\u001b[1;32m      4\u001b[0m \u001b[38;5;28;01mimport\u001b[39;00m \u001b[38;5;21;01mpandas\u001b[39;00m \u001b[38;5;28;01mas\u001b[39;00m \u001b[38;5;21;01mpd\u001b[39;00m\n\u001b[0;32m----> 6\u001b[0m \u001b[38;5;28;01mimport\u001b[39;00m \u001b[38;5;21;01mtensorflow\u001b[39;00m \u001b[38;5;28;01mas\u001b[39;00m \u001b[38;5;21;01mtf\u001b[39;00m\n\u001b[1;32m      7\u001b[0m \u001b[38;5;28;01mfrom\u001b[39;00m \u001b[38;5;21;01mtensorflow\u001b[39;00m\u001b[38;5;21;01m.\u001b[39;00m\u001b[38;5;21;01mkeras\u001b[39;00m \u001b[38;5;28;01mimport\u001b[39;00m layers\n\u001b[1;32m      8\u001b[0m \u001b[38;5;28;01mfrom\u001b[39;00m \u001b[38;5;21;01mtensorflow\u001b[39;00m \u001b[38;5;28;01mimport\u001b[39;00m keras\n",
      "\u001b[0;31mModuleNotFoundError\u001b[0m: No module named 'tensorflow'"
     ]
    }
   ],
   "source": [
    "import os\n",
    "import cv2\n",
    "import numpy as np\n",
    "import pandas as pd\n",
    "\n",
    "import tensorflow as tf\n",
    "from tensorflow.keras import layers\n",
    "from tensorflow import keras\n",
    "from tensorflow.keras import Model\n",
    "from tensorflow.keras.preprocessing.image import ImageDataGenerator\n",
    "from tensorflow.keras.optimizers import Adam"
   ]
  },
  {
   "cell_type": "markdown",
   "id": "abbae9fc",
   "metadata": {
    "id": "abbae9fc"
   },
   "source": [
    "## Data Preprocessing"
   ]
  },
  {
   "cell_type": "code",
   "execution_count": null,
   "id": "b341ea0c",
   "metadata": {
    "id": "b341ea0c"
   },
   "outputs": [],
   "source": [
    "training_images = []\n",
    "training_labels = []\n",
    "\n",
    "test_images = []\n",
    "test_labels = []\n",
    "\n",
    "train_path = ('Training/')\n",
    "test_path = ('Testing/')\n",
    "image_size = 300\n",
    "\n",
    "for i in os.listdir(train_path):\n",
    "    for j in os.listdir(train_path + i):\n",
    "        training_images.append(cv2.resize(cv2.imread(train_path + i + '/' + j), (image_size, image_size)))\n",
    "        training_labels.append(i)\n",
    "\n",
    "for i in os.listdir(test_path):\n",
    "    for j in os.listdir(test_path + i):\n",
    "        test_images.append(cv2.resize(cv2.imread(test_path + i + '/' + j), (image_size, image_size)))\n",
    "        test_labels.append(i)\n",
    "\n",
    "training_images = (np.array(training_images))\n",
    "test_images = (np.array(test_images))\n",
    "\n",
    "train_labels_encoded = [0 if category == 'no_tumor' else(1 if category == 'glioma_tumor' else(2 if category=='meningioma_tumor' else 3)) for category in list(training_labels)]\n",
    "\n",
    "test_labels_encoded = [0 if category == 'no_tumor' else(1 if category == 'glioma_tumor' else(2 if category=='meningioma_tumor' else 3)) for category in list(test_labels)]\n"
   ]
  },
  {
   "cell_type": "code",
   "execution_count": null,
   "id": "65fa6046",
   "metadata": {
    "id": "65fa6046"
   },
   "outputs": [],
   "source": [
    "# augmenting the images\n",
    "image_datagen = ImageDataGenerator(\n",
    "    rotation_range = 45,\n",
    "    zoom_range = 0.2,\n",
    "    horizontal_flip = True)\n",
    "\n",
    "image_datagen.fit(training_images)\n",
    "image_datagen.fit(test_images)"
   ]
  },
  {
   "cell_type": "markdown",
   "id": "zhNYrAy4mTUG",
   "metadata": {
    "id": "zhNYrAy4mTUG"
   },
   "source": [
    "## Xception Network"
   ]
  },
  {
   "cell_type": "code",
   "execution_count": 1,
   "id": "Ri3RvARCVgZo",
   "metadata": {
    "id": "Ri3RvARCVgZo"
   },
   "outputs": [],
   "source": [
    "def entryFlow(inputLayer):\n",
    "\n",
    "  #input_layer = layers.Input(shape = inputShape)\n",
    "# ------------------------------------------------------------------------------------\n",
    "  convolution1 = layers.Conv2D(32, kernel_size = (3, 3), strides = (2, 2), padding = 'same')(inputLayer)\n",
    "  batchnorm1 = layers.BatchNormalization()(convolution1)\n",
    "  activation1 = layers.ReLU()(batchnorm1)\n",
    "\n",
    "  convolution1 = layers.Conv2D(64, kernel_size = (3, 3), padding = 'same')(activation1)\n",
    "  batchnorm1 = layers.BatchNormalization()(convolution1)\n",
    "  activation1 = layers.ReLU()(batchnorm1)\n",
    "  # ------------------------------------------------------------------------------------\n",
    "  residual2 = layers.Conv2D(1, kernel_size = (1, 1), strides = (2, 2), padding = 'same')(activation1)\n",
    "\n",
    "  separableConvolution2 = layers.SeparableConv2D(128, kernel_size = (3, 3), padding = 'same')(activation1)\n",
    "  batchnorm2 = layers.BatchNormalization()(separableConvolution2)\n",
    "\n",
    "  activation2 = layers.ReLU()(batchnorm2)\n",
    "  separableConvolution2 = layers.SeparableConv2D(128, kernel_size = (3, 3), padding = 'same')(activation2)\n",
    "  batchnorm2 = layers.BatchNormalization()(separableConvolution2)\n",
    "\n",
    "  maxPool2 = layers.MaxPooling2D(pool_size = (3, 3), strides = (2, 2), padding = 'same')(batchnorm2)\n",
    "\n",
    "  #concat2 = layers.concatenate([residual2, maxPool2])\n",
    "  concat2 = residual2 + maxPool2\n",
    "  # ------------------------------------------------------------------------------------\n",
    "  residual3 = layers.Conv2D(1, kernel_size = (1, 1), strides = (2, 2), padding = 'same')(maxPool2)\n",
    "\n",
    "  activation3 = layers.ReLU()(concat2)\n",
    "  separableConvolution3 = layers.SeparableConv2D(256, kernel_size = (3, 3), padding = 'same')(activation3)\n",
    "  batchnorm3 = layers.BatchNormalization()(separableConvolution3)\n",
    "\n",
    "  activation3 = layers.ReLU()(batchnorm3)\n",
    "  separableConvolution2 = layers.SeparableConv2D(256, kernel_size = (3, 3), padding = 'same')(activation3)\n",
    "  batchnorm3 = layers.BatchNormalization()(separableConvolution2)\n",
    "\n",
    "  maxPool3 = layers.MaxPooling2D(pool_size = (3, 3), strides = (2, 2), padding = 'same')(batchnorm3)\n",
    "\n",
    "  #concat3 = layers.concatenate([residual3, maxPool3])\n",
    "  concat3 = residual3 + maxPool3\n",
    "  # ------------------------------------------------------------------------------------\n",
    "  residual4 = layers.Conv2D(1, kernel_size = (1, 1), strides = (2, 2), padding = 'same')(maxPool3)\n",
    "\n",
    "  activation4 = layers.ReLU()(concat3)\n",
    "  separableConvolution4 = layers.SeparableConv2D(728, kernel_size = (3, 3), padding = 'same')(activation4)\n",
    "  batchnorm4 = layers.BatchNormalization()(separableConvolution4)\n",
    "\n",
    "  activation4 = layers.ReLU()(batchnorm4)\n",
    "  separableConvolution4 = layers.SeparableConv2D(728, kernel_size = (3, 3), padding = 'same')(activation4)\n",
    "  batchnorm4 = layers.BatchNormalization()(separableConvolution4)\n",
    "\n",
    "  maxPool4 = layers.MaxPooling2D(pool_size = (3, 3), strides = (2, 2), padding = 'same')(batchnorm4)\n",
    "\n",
    "  #concat4 = layers.concatenate([residual4, maxPool4])\n",
    "  concat4 = residual4 + maxPool4\n",
    "\n",
    "  return concat4"
   ]
  },
  {
   "cell_type": "code",
   "execution_count": 2,
   "id": "B9iVbw-yXGqv",
   "metadata": {
    "id": "B9iVbw-yXGqv"
   },
   "outputs": [],
   "source": [
    "def middleFlow(entryFlowOutput):\n",
    "\n",
    "  activation1 = layers.ReLU()(entryFlowOutput)\n",
    "  separableConvolution1 = layers.SeparableConv2D(728, kernel_size = (3, 3), padding = 'same')(activation1)\n",
    "  batchnorm1 = layers.BatchNormalization()(separableConvolution1)\n",
    "\n",
    "  activation1 = layers.ReLU()(batchnorm1)\n",
    "  separableConvolution1 = layers.SeparableConv2D(728, kernel_size = (3, 3), padding = 'same')(activation1)\n",
    "  batchnorm1 = layers.BatchNormalization()(separableConvolution1)\n",
    "\n",
    "  activation1 = layers.ReLU()(batchnorm1)\n",
    "  separableConvolution1 = layers.SeparableConv2D(728, kernel_size = (3, 3), padding = 'same')(activation1)\n",
    "  batchnorm1 = layers.BatchNormalization()(separableConvolution1)\n",
    "\n",
    "  concat1 = entryFlowOutput + batchnorm1\n",
    "\n",
    "  return concat1\n"
   ]
  },
  {
   "cell_type": "code",
   "execution_count": 30,
   "id": "t3xkkr3_ocUT",
   "metadata": {
    "id": "t3xkkr3_ocUT"
   },
   "outputs": [],
   "source": [
    "def exitFlow(middleFlowOutput):\n",
    "  residual1 = layers.Conv2D(1, kernel_size = (1, 1), strides = (2, 2), padding = 'same')(middleFlowOutput)\n",
    "\n",
    "  activation1 = layers.ReLU()(middleFlowOutput)\n",
    "  separableConvolution1 = layers.SeparableConv2D(1024, kernel_size = (3, 3), padding = 'same')(middleFlowOutput)\n",
    "  batchnorm1 = layers.BatchNormalization()(separableConvolution1)\n",
    "  maxPool1 = layers.MaxPooling2D(pool_size=(3, 3), strides = (2, 2), padding = 'same')(batchnorm1)\n",
    "\n",
    "  concat = residual1 + maxPool1\n",
    "\n",
    "  separableConvolution2 = layers.SeparableConv2D(1536, kernel_size = (3, 3), padding = 'same')(concat)\n",
    "  activation2 = layers.ReLU()(separableConvolution2)\n",
    "\n",
    "  separableConvolution3 = layers.SeparableConv2D(2048, kernel_size = (3, 3), padding = 'same')(activation2)\n",
    "  activation3 = layers.ReLU()(separableConvolution3)\n",
    "\n",
    "  globalPooling = layers.GlobalAveragePooling2D()(activation3)\n",
    "\n",
    "  return globalPooling"
   ]
  },
  {
   "cell_type": "code",
   "execution_count": 35,
   "id": "OUEm_FgqmW5s",
   "metadata": {
    "id": "OUEm_FgqmW5s"
   },
   "outputs": [],
   "source": [
    "# input\n",
    "#input_shape = (299, 299, 3)\n",
    "#input_layer = layers.Input(shape = input_shape)\n",
    "#entryFlowOutput = entryFlow((299, 299, 3))\n",
    "#middleFlowOutput = middleFlow(entryFlowOutput)\n",
    "\n",
    "input_shape = (299, 299, 3)\n",
    "def Xception(inputShape):\n",
    "  input_layer = layers.Input(shape = inputShape)\n",
    "\n",
    "  entryFlowOutput = entryFlow(input_layer)\n",
    "\n",
    "  middleFlowOutput = middleFlow(entryFlowOutput)\n",
    "  n = 7\n",
    "  while n > 0:\n",
    "    middleFlowOutput = middleFlow(middleFlowOutput)\n",
    "    n -= 1\n",
    "\n",
    "  exitFlowOutput = exitFlow(middleFlowOutput)\n",
    "\n",
    "  output = layers.Dense(2, activation = 'softmax')(exitFlowOutput)\n",
    "\n",
    "  model = Model(inputs = input_layer, outputs = output)\n",
    "\n",
    "  return model\n"
   ]
  },
  {
   "cell_type": "code",
   "execution_count": 36,
   "id": "nJlKsPj7zp6p",
   "metadata": {
    "colab": {
     "base_uri": "https://localhost:8080/"
    },
    "id": "nJlKsPj7zp6p",
    "outputId": "a824affa-c804-4ec0-83c8-79c037eafd3e"
   },
   "outputs": [
    {
     "data": {
      "text/plain": [
       "<keras.src.engine.functional.Functional at 0x786131d67d00>"
      ]
     },
     "execution_count": 36,
     "metadata": {},
     "output_type": "execute_result"
    }
   ],
   "source": [
    "Xception((299, 299, 3))"
   ]
  },
  {
   "cell_type": "code",
   "execution_count": null,
   "id": "78b0402a",
   "metadata": {
    "id": "78b0402a",
    "outputId": "cf3ab247-1f7d-4edc-8cb5-3b14bbac686d"
   },
   "outputs": [
    {
     "name": "stdout",
     "output_type": "stream",
     "text": [
      "Epoch 1/20\n"
     ]
    },
    {
     "name": "stderr",
     "output_type": "stream",
     "text": [
      "2023-01-25 15:51:27.050597: W tensorflow/core/platform/profile_utils/cpu_utils.cc:128] Failed to get CPU frequency: 0 Hz\n"
     ]
    },
    {
     "name": "stdout",
     "output_type": "stream",
     "text": [
      "81/81 [==============================] - 80s 979ms/step - loss: 4.3984 - accuracy: 0.3833 - val_loss: 1.3487 - val_accuracy: 0.0139\n",
      "Epoch 2/20\n",
      "81/81 [==============================] - 81s 994ms/step - loss: 1.0173 - accuracy: 0.5331 - val_loss: 0.9323 - val_accuracy: 0.8188\n",
      "Epoch 3/20\n",
      "81/81 [==============================] - 83s 1s/step - loss: 0.8378 - accuracy: 0.6218 - val_loss: 0.3877 - val_accuracy: 0.9443\n",
      "Epoch 4/20\n",
      "81/81 [==============================] - 85s 1s/step - loss: 0.6864 - accuracy: 0.6992 - val_loss: 0.2537 - val_accuracy: 0.9512\n",
      "Epoch 5/20\n",
      "81/81 [==============================] - 87s 1s/step - loss: 0.5720 - accuracy: 0.7588 - val_loss: 0.2753 - val_accuracy: 0.9477\n",
      "Epoch 6/20\n",
      "81/81 [==============================] - 93s 1s/step - loss: 0.5003 - accuracy: 0.7964 - val_loss: 0.1028 - val_accuracy: 0.9791\n",
      "Epoch 7/20\n",
      "81/81 [==============================] - 90s 1s/step - loss: 0.4130 - accuracy: 0.8262 - val_loss: 0.0721 - val_accuracy: 0.9721\n",
      "Epoch 8/20\n",
      "81/81 [==============================] - 91s 1s/step - loss: 0.3677 - accuracy: 0.8463 - val_loss: 0.1668 - val_accuracy: 0.9443\n",
      "Epoch 9/20\n",
      "81/81 [==============================] - 244s 3s/step - loss: 0.3370 - accuracy: 0.8599 - val_loss: 0.0597 - val_accuracy: 0.9791\n",
      "Epoch 10/20\n",
      "81/81 [==============================] - 88s 1s/step - loss: 0.2670 - accuracy: 0.8815 - val_loss: 0.0728 - val_accuracy: 0.9791\n",
      "Epoch 11/20\n",
      "81/81 [==============================] - 96s 1s/step - loss: 0.2505 - accuracy: 0.8885 - val_loss: 0.0689 - val_accuracy: 0.9756\n",
      "Epoch 12/20\n",
      "81/81 [==============================] - 100s 1s/step - loss: 0.2268 - accuracy: 0.9009 - val_loss: 0.1731 - val_accuracy: 0.9477\n",
      "Epoch 13/20\n",
      "81/81 [==============================] - 100s 1s/step - loss: 0.2285 - accuracy: 0.8993 - val_loss: 0.0964 - val_accuracy: 0.9721\n",
      "Epoch 14/20\n",
      "81/81 [==============================] - 99s 1s/step - loss: 0.1930 - accuracy: 0.9152 - val_loss: 0.0779 - val_accuracy: 0.9826\n",
      "Epoch 15/20\n",
      "81/81 [==============================] - 95s 1s/step - loss: 0.1892 - accuracy: 0.9218 - val_loss: 0.1316 - val_accuracy: 0.9756\n",
      "Epoch 16/20\n",
      "81/81 [==============================] - 94s 1s/step - loss: 0.1541 - accuracy: 0.9292 - val_loss: 0.0620 - val_accuracy: 0.9861\n",
      "Epoch 17/20\n",
      "81/81 [==============================] - 98s 1s/step - loss: 0.1521 - accuracy: 0.9319 - val_loss: 0.0765 - val_accuracy: 0.9652\n",
      "Epoch 18/20\n",
      "81/81 [==============================] - 93s 1s/step - loss: 0.1437 - accuracy: 0.9404 - val_loss: 0.0910 - val_accuracy: 0.9791\n",
      "Epoch 19/20\n",
      "81/81 [==============================] - 94s 1s/step - loss: 0.1440 - accuracy: 0.9458 - val_loss: 0.1369 - val_accuracy: 0.9652\n",
      "Epoch 20/20\n",
      "81/81 [==============================] - 93s 1s/step - loss: 0.1536 - accuracy: 0.9330 - val_loss: 0.0941 - val_accuracy: 0.9721\n"
     ]
    }
   ],
   "source": [
    "history = model.fit(tf.cast(training_images, tf.float32), np.array(pd.get_dummies(training_labels)), validation_split = 0.1, epochs = 20, batch_size = 32)"
   ]
  }
 ],
 "metadata": {
  "colab": {
   "provenance": []
  },
  "kernelspec": {
   "display_name": "Python 3 (ipykernel)",
   "language": "python",
   "name": "python3"
  },
  "language_info": {
   "codemirror_mode": {
    "name": "ipython",
    "version": 3
   },
   "file_extension": ".py",
   "mimetype": "text/x-python",
   "name": "python",
   "nbconvert_exporter": "python",
   "pygments_lexer": "ipython3",
   "version": "3.11.5"
  }
 },
 "nbformat": 4,
 "nbformat_minor": 5
}
