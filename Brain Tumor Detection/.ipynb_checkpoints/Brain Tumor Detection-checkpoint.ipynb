{
 "cells": [
  {
   "cell_type": "markdown",
   "id": "571bc203",
   "metadata": {},
   "source": [
    "# Brain Tumor Detection\n",
    "\n",
    "## Dataset\n",
    "\n",
    "The dataset consists of 2 folders - 'Training' and 'Testing'. Each folder consists for 4 folders corresponding to 4 classes of tumors. These classes are:\n",
    "- glioma tumor\n",
    "- meningioma tumor\n",
    "- no tumor\n",
    "- pituitary tumor\n",
    "\n",
    "## Objective\n",
    "\n",
    "Our objective is to detect the type of tumor in a given MRI scan"
   ]
  },
  {
   "cell_type": "markdown",
   "id": "f685927b",
   "metadata": {},
   "source": [
    "## Importing Libaries"
   ]
  },
  {
   "cell_type": "code",
   "execution_count": 15,
   "id": "941d4579",
   "metadata": {},
   "outputs": [],
   "source": [
    "import os\n",
    "import cv2\n",
    "import numpy as np\n",
    "import pandas as pd\n",
    "\n",
    "import tensorflow as tf\n",
    "from tensorflow.keras.preprocessing.image import ImageDataGenerator\n",
    "from tensorflow.keras.models import Sequential\n",
    "from tensorflow.keras.layers import Dense, Conv2D\n",
    "from tensorflow.keras.optimizers import Adam"
   ]
  },
  {
   "cell_type": "markdown",
   "id": "abbae9fc",
   "metadata": {},
   "source": [
    "## Data Preprocessing"
   ]
  },
  {
   "cell_type": "code",
   "execution_count": 7,
   "id": "b341ea0c",
   "metadata": {},
   "outputs": [],
   "source": [
    "training_images = []\n",
    "training_labels = []\n",
    "\n",
    "test_images = []\n",
    "test_labels = []\n",
    "\n",
    "train_path = ('Training/')\n",
    "test_path = ('Testing/')\n",
    "image_size = 300\n",
    "\n",
    "for i in os.listdir(train_path):\n",
    "    for j in os.listdir(train_path + i):\n",
    "        training_images.append(cv2.resize(cv2.imread(train_path + i + '/' + j), (image_size, image_size)))\n",
    "        training_labels.append(i)\n",
    "\n",
    "for i in os.listdir(test_path):\n",
    "    for j in os.listdir(test_path + i):\n",
    "        test_images.append(cv2.resize(cv2.imread(test_path + i + '/' + j), (image_size, image_size)))\n",
    "        test_labels.append(i)\n",
    "\n",
    "training_images = (np.array(training_images))\n",
    "test_images = (np.array(test_images))\n",
    "\n",
    "train_labels_encoded = [0 if category == 'no_tumor' else(1 if category == 'glioma_tumor' else(2 if category=='meningioma_tumor' else 3)) for category in list(training_labels)]\n",
    "\n",
    "test_labels_encoded = [0 if category == 'no_tumor' else(1 if category == 'glioma_tumor' else(2 if category=='meningioma_tumor' else 3)) for category in list(test_labels)]\n",
    "    "
   ]
  },
  {
   "cell_type": "code",
   "execution_count": 10,
   "id": "65fa6046",
   "metadata": {},
   "outputs": [],
   "source": [
    "# augmenting the images\n",
    "image_datagen = ImageDataGenerator(\n",
    "    rotation_range = 45,\n",
    "    zoom_range = 0.2,\n",
    "    horizontal_flip = True)\n",
    "\n",
    "image_datagen.fit(training_images)\n",
    "image_datagen.fit(test_images)"
   ]
  },
  {
   "cell_type": "markdown",
   "id": "ede2beaa",
   "metadata": {},
   "source": [
    "## Neural Network"
   ]
  },
  {
   "cell_type": "code",
   "execution_count": 14,
   "id": "47fe9338",
   "metadata": {},
   "outputs": [],
   "source": [
    "model = tf.keras.Sequential(\n",
    "        [\n",
    "          tf.keras.layers.Conv2D(kernel_size=(5,5) ,filters=32, activation='relu', padding='same'),\n",
    "          tf.keras.layers.MaxPool2D(pool_size=(2,2)),\n",
    "\n",
    "          tf.keras.layers.Conv2D(kernel_size=(3,3),filters=32, activation='relu', padding='same'),\n",
    "          tf.keras.layers.MaxPool2D(pool_size=(2,2)),\n",
    "\n",
    "          tf.keras.layers.Conv2D(kernel_size=(3,3) ,filters=32, activation='relu', padding='same'),\n",
    "          tf.keras.layers.MaxPool2D(pool_size=(2,2)),\n",
    "\n",
    "          tf.keras.layers.Conv2D(kernel_size=(3,3) ,filters=64, activation='relu', padding='same'),\n",
    "          tf.keras.layers.MaxPool2D(pool_size=(2,2)),\n",
    "\n",
    "          tf.keras.layers.Flatten(),\n",
    "          tf.keras.layers.Dense(128, activation='relu'),\n",
    "          tf.keras.layers.Dropout(rate=0.5),\n",
    "          tf.keras.layers.Dense(4, activation='sigmoid')\n",
    "  ])\n",
    "\n",
    "model.compile(optimizer=tf.keras.optimizers.Adam(),\n",
    "              loss='categorical_crossentropy',\n",
    "              metrics=['accuracy'])"
   ]
  },
  {
   "cell_type": "code",
   "execution_count": 16,
   "id": "78b0402a",
   "metadata": {},
   "outputs": [
    {
     "name": "stdout",
     "output_type": "stream",
     "text": [
      "Epoch 1/20\n"
     ]
    },
    {
     "name": "stderr",
     "output_type": "stream",
     "text": [
      "2023-01-25 15:51:27.050597: W tensorflow/core/platform/profile_utils/cpu_utils.cc:128] Failed to get CPU frequency: 0 Hz\n"
     ]
    },
    {
     "name": "stdout",
     "output_type": "stream",
     "text": [
      "81/81 [==============================] - 80s 979ms/step - loss: 4.3984 - accuracy: 0.3833 - val_loss: 1.3487 - val_accuracy: 0.0139\n",
      "Epoch 2/20\n",
      "81/81 [==============================] - 81s 994ms/step - loss: 1.0173 - accuracy: 0.5331 - val_loss: 0.9323 - val_accuracy: 0.8188\n",
      "Epoch 3/20\n",
      "81/81 [==============================] - 83s 1s/step - loss: 0.8378 - accuracy: 0.6218 - val_loss: 0.3877 - val_accuracy: 0.9443\n",
      "Epoch 4/20\n",
      "81/81 [==============================] - 85s 1s/step - loss: 0.6864 - accuracy: 0.6992 - val_loss: 0.2537 - val_accuracy: 0.9512\n",
      "Epoch 5/20\n",
      "81/81 [==============================] - 87s 1s/step - loss: 0.5720 - accuracy: 0.7588 - val_loss: 0.2753 - val_accuracy: 0.9477\n",
      "Epoch 6/20\n",
      "81/81 [==============================] - 93s 1s/step - loss: 0.5003 - accuracy: 0.7964 - val_loss: 0.1028 - val_accuracy: 0.9791\n",
      "Epoch 7/20\n",
      "81/81 [==============================] - 90s 1s/step - loss: 0.4130 - accuracy: 0.8262 - val_loss: 0.0721 - val_accuracy: 0.9721\n",
      "Epoch 8/20\n",
      "81/81 [==============================] - 91s 1s/step - loss: 0.3677 - accuracy: 0.8463 - val_loss: 0.1668 - val_accuracy: 0.9443\n",
      "Epoch 9/20\n",
      "81/81 [==============================] - 244s 3s/step - loss: 0.3370 - accuracy: 0.8599 - val_loss: 0.0597 - val_accuracy: 0.9791\n",
      "Epoch 10/20\n",
      "81/81 [==============================] - 88s 1s/step - loss: 0.2670 - accuracy: 0.8815 - val_loss: 0.0728 - val_accuracy: 0.9791\n",
      "Epoch 11/20\n",
      "81/81 [==============================] - 96s 1s/step - loss: 0.2505 - accuracy: 0.8885 - val_loss: 0.0689 - val_accuracy: 0.9756\n",
      "Epoch 12/20\n",
      "81/81 [==============================] - 100s 1s/step - loss: 0.2268 - accuracy: 0.9009 - val_loss: 0.1731 - val_accuracy: 0.9477\n",
      "Epoch 13/20\n",
      "81/81 [==============================] - 100s 1s/step - loss: 0.2285 - accuracy: 0.8993 - val_loss: 0.0964 - val_accuracy: 0.9721\n",
      "Epoch 14/20\n",
      "81/81 [==============================] - 99s 1s/step - loss: 0.1930 - accuracy: 0.9152 - val_loss: 0.0779 - val_accuracy: 0.9826\n",
      "Epoch 15/20\n",
      "81/81 [==============================] - 95s 1s/step - loss: 0.1892 - accuracy: 0.9218 - val_loss: 0.1316 - val_accuracy: 0.9756\n",
      "Epoch 16/20\n",
      "81/81 [==============================] - 94s 1s/step - loss: 0.1541 - accuracy: 0.9292 - val_loss: 0.0620 - val_accuracy: 0.9861\n",
      "Epoch 17/20\n",
      "81/81 [==============================] - 98s 1s/step - loss: 0.1521 - accuracy: 0.9319 - val_loss: 0.0765 - val_accuracy: 0.9652\n",
      "Epoch 18/20\n",
      "81/81 [==============================] - 93s 1s/step - loss: 0.1437 - accuracy: 0.9404 - val_loss: 0.0910 - val_accuracy: 0.9791\n",
      "Epoch 19/20\n",
      "81/81 [==============================] - 94s 1s/step - loss: 0.1440 - accuracy: 0.9458 - val_loss: 0.1369 - val_accuracy: 0.9652\n",
      "Epoch 20/20\n",
      "81/81 [==============================] - 93s 1s/step - loss: 0.1536 - accuracy: 0.9330 - val_loss: 0.0941 - val_accuracy: 0.9721\n"
     ]
    }
   ],
   "source": [
    "history = model.fit(tf.cast(training_images, tf.float32), np.array(pd.get_dummies(training_labels)), validation_split = 0.1, epochs = 20, batch_size = 32)"
   ]
  },
  {
   "cell_type": "code",
   "execution_count": 20,
   "id": "4a2694b7",
   "metadata": {},
   "outputs": [
    {
     "data": {
      "text/plain": [
       "{'loss': [4.3984174728393555,\n",
       "  1.0172500610351562,\n",
       "  0.8378005623817444,\n",
       "  0.686424195766449,\n",
       "  0.5719554424285889,\n",
       "  0.500267744064331,\n",
       "  0.41295868158340454,\n",
       "  0.36772996187210083,\n",
       "  0.3369678556919098,\n",
       "  0.2670123875141144,\n",
       "  0.2504905164241791,\n",
       "  0.22678214311599731,\n",
       "  0.22853076457977295,\n",
       "  0.19298778474330902,\n",
       "  0.18923041224479675,\n",
       "  0.15406262874603271,\n",
       "  0.15210965275764465,\n",
       "  0.14365923404693604,\n",
       "  0.14399473369121552,\n",
       "  0.15359552204608917],\n",
       " 'accuracy': [0.38327527046203613,\n",
       "  0.5331010222434998,\n",
       "  0.6217576265335083,\n",
       "  0.6991869807243347,\n",
       "  0.7588075995445251,\n",
       "  0.7963608503341675,\n",
       "  0.8261711001396179,\n",
       "  0.8463027477264404,\n",
       "  0.8598529100418091,\n",
       "  0.8815330862998962,\n",
       "  0.888501763343811,\n",
       "  0.9008904099464417,\n",
       "  0.8993418216705322,\n",
       "  0.9152148962020874,\n",
       "  0.9217963814735413,\n",
       "  0.9291521310806274,\n",
       "  0.9318621754646301,\n",
       "  0.9403793811798096,\n",
       "  0.9457994699478149,\n",
       "  0.9330236315727234],\n",
       " 'val_loss': [1.3486629724502563,\n",
       "  0.9322890639305115,\n",
       "  0.387708842754364,\n",
       "  0.25371259450912476,\n",
       "  0.2753346264362335,\n",
       "  0.10275966674089432,\n",
       "  0.07208618521690369,\n",
       "  0.16680878400802612,\n",
       "  0.059729281812906265,\n",
       "  0.07276394218206406,\n",
       "  0.06891166418790817,\n",
       "  0.1730586588382721,\n",
       "  0.09636962413787842,\n",
       "  0.07789460569620132,\n",
       "  0.13160322606563568,\n",
       "  0.06204455718398094,\n",
       "  0.07651425898075104,\n",
       "  0.0910351350903511,\n",
       "  0.13685695827007294,\n",
       "  0.09407927840948105],\n",
       " 'val_accuracy': [0.013937282375991344,\n",
       "  0.8188153505325317,\n",
       "  0.9442508816719055,\n",
       "  0.9512194991111755,\n",
       "  0.9477351903915405,\n",
       "  0.9790940880775452,\n",
       "  0.9721254110336304,\n",
       "  0.9442508816719055,\n",
       "  0.9790940880775452,\n",
       "  0.9790940880775452,\n",
       "  0.9756097793579102,\n",
       "  0.9477351903915405,\n",
       "  0.9721254110336304,\n",
       "  0.9825783967971802,\n",
       "  0.9756097793579102,\n",
       "  0.9860627055168152,\n",
       "  0.9651567935943604,\n",
       "  0.9790940880775452,\n",
       "  0.9651567935943604,\n",
       "  0.9721254110336304]}"
      ]
     },
     "execution_count": 20,
     "metadata": {},
     "output_type": "execute_result"
    }
   ],
   "source": [
    "history.history"
   ]
  }
 ],
 "metadata": {
  "kernelspec": {
   "display_name": "Python 3 (ipykernel)",
   "language": "python",
   "name": "python3"
  },
  "language_info": {
   "codemirror_mode": {
    "name": "ipython",
    "version": 3
   },
   "file_extension": ".py",
   "mimetype": "text/x-python",
   "name": "python",
   "nbconvert_exporter": "python",
   "pygments_lexer": "ipython3",
   "version": "3.10.6"
  }
 },
 "nbformat": 4,
 "nbformat_minor": 5
}
