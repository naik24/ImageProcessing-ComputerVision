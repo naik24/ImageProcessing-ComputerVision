{
 "cells": [
  {
   "cell_type": "markdown",
   "id": "04bf8820",
   "metadata": {},
   "source": [
    "## 1. Introduction\n",
    "\n",
    "- An image may be defined as a two-dimensional function, $f(x, y)$, where $x$ and $y$ are spatial coordinated, and the amplitude of $f$ at any pair of coordinated $(x, y)$ is called the intensity or gray level of the image at that point\n",
    "- Fundamental steps in image processing:\n",
    "    - Image acquisition\n",
    "    - Image filtering and enhancement\n",
    "    - Image restoration\n",
    "    - Color image processing\n",
    "    - Wavelets and other image transforms\n",
    "    - Compression and watermarking\n",
    "    - Morphological operations\n",
    "    - Segmentation\n",
    "    - Feature extraction\n",
    "    - Image pattern classification\n",
    "- Components of image processing system\n",
    "    - Computer\n",
    "    - Image Displays\n",
    "    - Mass Storage\n",
    "    - Hardcopy\n",
    "    - Specialized image processing hardware\n",
    "    - Image processing software\n",
    "    - Image Sensors"
   ]
  },
  {
   "cell_type": "markdown",
   "id": "716f8b9f",
   "metadata": {},
   "source": [
    "## 2. Digital Image Fundamentals\n",
    "\n",
    "- Our objective is to generate digital images from sensed data. Sampling and Quantization are the processes of converting continuous sensed data into a digital format\n",
    "- Digitizing the coordinate values is called sampling. Digitizing the amplitude values is called quantization\n",
    "- The center of a $M$ x $N$ image is obtained by (floor(M/2), floor(N/2))\n",
    "- Image digitization requires that decisions be made regarding the values for M, N and L, the number of discrete intensity values. Digital storage and quantizing hardware considerations usually lead to the number of intensity levels, L being an integer power of two that is L = 2^k\n",
    "- The number of bits b required to store a digital image is b = M x N x k\n",
    "- Interpolation is the process of using known data to estimate values at unknown locations"
   ]
  },
  {
   "cell_type": "code",
   "execution_count": 1,
   "id": "5cb36924",
   "metadata": {},
   "outputs": [
    {
     "name": "stderr",
     "output_type": "stream",
     "text": [
      "[ WARN:0@0.566] global /Users/xperience/actions-runner/_work/opencv-python/opencv-python/opencv/modules/imgcodecs/src/loadsave.cpp (239) findDecoder imread_('images\\map.tif'): can't open/read file: check file path/integrity\n"
     ]
    },
    {
     "ename": "error",
     "evalue": "OpenCV(4.6.0) /Users/xperience/actions-runner/_work/opencv-python/opencv-python/opencv/modules/imgproc/src/resize.cpp:4052: error: (-215:Assertion failed) !ssize.empty() in function 'resize'\n",
     "output_type": "error",
     "traceback": [
      "\u001b[0;31m---------------------------------------------------------------------------\u001b[0m",
      "\u001b[0;31merror\u001b[0m                                     Traceback (most recent call last)",
      "Cell \u001b[0;32mIn [1], line 17\u001b[0m\n\u001b[1;32m      8\u001b[0m \u001b[38;5;66;03m# nearest neighbor interpolation\u001b[39;00m\n\u001b[1;32m      9\u001b[0m \u001b[38;5;124;03m'''\u001b[39;00m\n\u001b[1;32m     10\u001b[0m \u001b[38;5;124;03mHere, after resizing the image, we get a numpy array. To display the numpy array as an image, we\u001b[39;00m\n\u001b[1;32m     11\u001b[0m \u001b[38;5;124;03mcan either use the pillow library to convert it from array to image or we can save it in an image \u001b[39;00m\n\u001b[0;32m   (...)\u001b[0m\n\u001b[1;32m     15\u001b[0m \u001b[38;5;124;03minto Image.\u001b[39;00m\n\u001b[1;32m     16\u001b[0m \u001b[38;5;124;03m'''\u001b[39;00m\n\u001b[0;32m---> 17\u001b[0m nearest_neighbor_interpolation \u001b[38;5;241m=\u001b[39m \u001b[43mcv2\u001b[49m\u001b[38;5;241;43m.\u001b[39;49m\u001b[43mresize\u001b[49m\u001b[43m(\u001b[49m\u001b[43mimage\u001b[49m\u001b[43m,\u001b[49m\u001b[43m \u001b[49m\u001b[43m(\u001b[49m\u001b[38;5;241;43m1750\u001b[39;49m\u001b[43m,\u001b[49m\u001b[43m \u001b[49m\u001b[38;5;241;43m1750\u001b[39;49m\u001b[43m)\u001b[49m\u001b[43m,\u001b[49m\u001b[43m \u001b[49m\u001b[43minterpolation\u001b[49m\u001b[43m \u001b[49m\u001b[38;5;241;43m=\u001b[39;49m\u001b[43m \u001b[49m\u001b[43mcv2\u001b[49m\u001b[38;5;241;43m.\u001b[39;49m\u001b[43mINTER_NEAREST\u001b[49m\u001b[43m)\u001b[49m\n\u001b[1;32m     19\u001b[0m \u001b[38;5;66;03m# bilinear interpolation\u001b[39;00m\n\u001b[1;32m     20\u001b[0m bilinear_interpolation \u001b[38;5;241m=\u001b[39m cv2\u001b[38;5;241m.\u001b[39mresize(image, (\u001b[38;5;241m1750\u001b[39m,\u001b[38;5;241m1750\u001b[39m), interpolation \u001b[38;5;241m=\u001b[39m cv2\u001b[38;5;241m.\u001b[39mINTER_LINEAR)\n",
      "\u001b[0;31merror\u001b[0m: OpenCV(4.6.0) /Users/xperience/actions-runner/_work/opencv-python/opencv-python/opencv/modules/imgproc/src/resize.cpp:4052: error: (-215:Assertion failed) !ssize.empty() in function 'resize'\n"
     ]
    }
   ],
   "source": [
    "# interpolation\n",
    "import cv2\n",
    "import matplotlib.pyplot as plt\n",
    "\n",
    "#input image\n",
    "image = cv2.imread('images\\map.tif')\n",
    "\n",
    "# nearest neighbor interpolation\n",
    "'''\n",
    "Here, after resizing the image, we get a numpy array. To display the numpy array as an image, we\n",
    "can either use the pillow library to convert it from array to image or we can save it in an image \n",
    "format like JPEG and then use the imshow() function in OpenCV. \n",
    "\n",
    "In case of plotting the images using the matplotlib library, there's no need to convert the numpy array\n",
    "into Image.\n",
    "'''\n",
    "nearest_neighbor_interpolation = cv2.resize(image, (1750, 1750), interpolation = cv2.INTER_NEAREST)\n",
    "\n",
    "# bilinear interpolation\n",
    "bilinear_interpolation = cv2.resize(image, (1750,1750), interpolation = cv2.INTER_LINEAR)\n",
    "\n",
    "# bicubic interpolation\n",
    "bicubic_interpolation = cv2.resize(image, (1750,1750), interpolation = cv2.INTER_CUBIC)\n",
    "\n",
    "# displaying all the images\n",
    "images = [image, nearest_neighbor_interpolation, bilinear_interpolation, bicubic_interpolation]\n",
    "title = [f\"Original Image {image.shape}\", f\"Nearest Neighbor Interpolation {nearest_neighbor_interpolation.shape}\", \n",
    "         f\"Bilinear Interpolation{bilinear_interpolation.shape}\", f\"Bicubic Interpolation{bicubic_interpolation.shape}\"]\n",
    "count = 4\n",
    "\n",
    "for i in range(count):\n",
    "    plt.subplot(2, 2, i + 1)\n",
    "    plt.title(title[i])\n",
    "    plt.imshow(images[i])\n",
    "\n",
    "plt.show()"
   ]
  },
  {
   "cell_type": "code",
   "execution_count": null,
   "id": "7337e3d1",
   "metadata": {},
   "outputs": [],
   "source": []
  }
 ],
 "metadata": {
  "kernelspec": {
   "display_name": "Python 3 (ipykernel)",
   "language": "python",
   "name": "python3"
  },
  "language_info": {
   "codemirror_mode": {
    "name": "ipython",
    "version": 3
   },
   "file_extension": ".py",
   "mimetype": "text/x-python",
   "name": "python",
   "nbconvert_exporter": "python",
   "pygments_lexer": "ipython3",
   "version": "3.10.6"
  }
 },
 "nbformat": 4,
 "nbformat_minor": 5
}
